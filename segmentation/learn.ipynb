{
 "cells": [
  {
   "cell_type": "code",
   "execution_count": 3,
   "metadata": {},
   "outputs": [
    {
     "name": "stderr",
     "output_type": "stream",
     "text": [
      "2023-07-31 15:54:10,982 - mmseg - INFO - Loaded 20210 images\n"
     ]
    },
    {
     "data": {
      "text/plain": [
       "(512, 1024, 3)"
      ]
     },
     "execution_count": 3,
     "metadata": {},
     "output_type": "execute_result"
    }
   ],
   "source": [
    "from mmseg.datasets import ADE20KDataset\n",
    "import mmcv\n",
    "\n",
    "crop_size = (512, 1024)\n",
    "img_norm_cfg = dict(\n",
    "    mean=[123.675, 116.28, 103.53], std=[58.395, 57.12, 57.375], to_rgb=True)\n",
    "\n",
    "train_pipeline = [\n",
    "    dict(type='LoadImageFromFile'),\n",
    "    dict(type='LoadAnnotations', reduce_zero_label=True),\n",
    "    dict(type='Resize', img_scale=(2048, 1024)),\n",
    "    dict(type='RandomCrop', crop_size=crop_size, cat_max_ratio=0.75),\n",
    "    dict(type='RandomFlip', prob=0.5),\n",
    "    dict(type='PhotoMetricDistortion'),\n",
    "    dict(type='Normalize', **img_norm_cfg),\n",
    "    dict(type='Pad', size=crop_size, pad_val=0, seg_pad_val=255),\n",
    "    dict(type='Collect', keys=['img', 'gt_semantic_seg']),\n",
    "]\n",
    "\n",
    "dataset = ADE20KDataset(\n",
    "    data_root = 'data/ade/ADEChallengeData2016',\n",
    "    img_dir='images/training',\n",
    "    ann_dir='annotations/training',\n",
    "    pipeline=train_pipeline\n",
    ")\n",
    "\n",
    "dataset[0]['img'].shape, dataset[0]['gt_semantic_seg'].shape\n",
    "img = dataset[4]['gt_semantic_seg']\n",
    "# mmcv.imshow(img, 'gray')\n",
    "dataset[0]['img'].shape\n"
   ]
  },
  {
   "cell_type": "code",
   "execution_count": 6,
   "metadata": {},
   "outputs": [
    {
     "ename": "KeyError",
     "evalue": "'ToMask is not in the pipeline registry'",
     "output_type": "error",
     "traceback": [
      "\u001b[0;31m---------------------------------------------------------------------------\u001b[0m",
      "\u001b[0;31mKeyError\u001b[0m                                  Traceback (most recent call last)",
      "Cell \u001b[0;32mIn[6], line 23\u001b[0m\n\u001b[1;32m      5\u001b[0m img_norm_cfg \u001b[39m=\u001b[39m \u001b[39mdict\u001b[39m(\n\u001b[1;32m      6\u001b[0m     mean\u001b[39m=\u001b[39m[\u001b[39m123.675\u001b[39m, \u001b[39m116.28\u001b[39m, \u001b[39m103.53\u001b[39m], std\u001b[39m=\u001b[39m[\u001b[39m58.395\u001b[39m, \u001b[39m57.12\u001b[39m, \u001b[39m57.375\u001b[39m], to_rgb\u001b[39m=\u001b[39m\u001b[39mTrue\u001b[39;00m)\n\u001b[1;32m      8\u001b[0m train_pipeline \u001b[39m=\u001b[39m [\n\u001b[1;32m      9\u001b[0m     \u001b[39mdict\u001b[39m(\u001b[39mtype\u001b[39m\u001b[39m=\u001b[39m\u001b[39m'\u001b[39m\u001b[39mLoadImageFromFile\u001b[39m\u001b[39m'\u001b[39m),\n\u001b[1;32m     10\u001b[0m     \u001b[39mdict\u001b[39m(\u001b[39mtype\u001b[39m\u001b[39m=\u001b[39m\u001b[39m'\u001b[39m\u001b[39mLoadAnnotations\u001b[39m\u001b[39m'\u001b[39m),\n\u001b[0;32m   (...)\u001b[0m\n\u001b[1;32m     19\u001b[0m     \u001b[39m# dict(type='Collect', keys=['img', 'gt_semantic_seg']),\u001b[39;00m\n\u001b[1;32m     20\u001b[0m ]\n\u001b[0;32m---> 23\u001b[0m dataset \u001b[39m=\u001b[39m CityscapesDataset(\n\u001b[1;32m     24\u001b[0m     data_root \u001b[39m=\u001b[39;49m \u001b[39m'\u001b[39;49m\u001b[39mdata/cityscapes/\u001b[39;49m\u001b[39m'\u001b[39;49m,\n\u001b[1;32m     25\u001b[0m     img_dir\u001b[39m=\u001b[39;49m\u001b[39m'\u001b[39;49m\u001b[39mleftImg8bit/val\u001b[39;49m\u001b[39m'\u001b[39;49m,\n\u001b[1;32m     26\u001b[0m     ann_dir\u001b[39m=\u001b[39;49m\u001b[39m'\u001b[39;49m\u001b[39mgtFine/val\u001b[39;49m\u001b[39m'\u001b[39;49m,\n\u001b[1;32m     27\u001b[0m     pipeline\u001b[39m=\u001b[39;49mtrain_pipeline,\n\u001b[1;32m     28\u001b[0m     classes\u001b[39m=\u001b[39;49m[\u001b[39m'\u001b[39;49m\u001b[39mroad\u001b[39;49m\u001b[39m'\u001b[39;49m],\n\u001b[1;32m     29\u001b[0m     palette\u001b[39m=\u001b[39;49m[[\u001b[39m128\u001b[39;49m, \u001b[39m64\u001b[39;49m, \u001b[39m128\u001b[39;49m]],\n\u001b[1;32m     30\u001b[0m )\n\u001b[1;32m     32\u001b[0m dataset[\u001b[39m0\u001b[39m]\n\u001b[1;32m     33\u001b[0m mmcv\u001b[39m.\u001b[39mimshow(dataset[\u001b[39m3\u001b[39m][\u001b[39m'\u001b[39m\u001b[39mimg\u001b[39m\u001b[39m'\u001b[39m])\n",
      "File \u001b[0;32m~/.conda/envs/vit/lib/python3.9/site-packages/mmseg/datasets/cityscapes.py:36\u001b[0m, in \u001b[0;36mCityscapesDataset.__init__\u001b[0;34m(self, img_suffix, seg_map_suffix, **kwargs)\u001b[0m\n\u001b[1;32m     32\u001b[0m \u001b[39mdef\u001b[39;00m \u001b[39m__init__\u001b[39m(\u001b[39mself\u001b[39m,\n\u001b[1;32m     33\u001b[0m              img_suffix\u001b[39m=\u001b[39m\u001b[39m'\u001b[39m\u001b[39m_leftImg8bit.png\u001b[39m\u001b[39m'\u001b[39m,\n\u001b[1;32m     34\u001b[0m              seg_map_suffix\u001b[39m=\u001b[39m\u001b[39m'\u001b[39m\u001b[39m_gtFine_labelTrainIds.png\u001b[39m\u001b[39m'\u001b[39m,\n\u001b[1;32m     35\u001b[0m              \u001b[39m*\u001b[39m\u001b[39m*\u001b[39mkwargs):\n\u001b[0;32m---> 36\u001b[0m     \u001b[39msuper\u001b[39;49m(CityscapesDataset, \u001b[39mself\u001b[39;49m)\u001b[39m.\u001b[39;49m\u001b[39m__init__\u001b[39;49m(\n\u001b[1;32m     37\u001b[0m         img_suffix\u001b[39m=\u001b[39;49mimg_suffix, seg_map_suffix\u001b[39m=\u001b[39;49mseg_map_suffix, \u001b[39m*\u001b[39;49m\u001b[39m*\u001b[39;49mkwargs)\n",
      "File \u001b[0;32m~/.conda/envs/vit/lib/python3.9/site-packages/mmseg/datasets/custom.py:91\u001b[0m, in \u001b[0;36mCustomDataset.__init__\u001b[0;34m(self, pipeline, img_dir, img_suffix, ann_dir, seg_map_suffix, split, data_root, test_mode, ignore_index, reduce_zero_label, classes, palette, gt_seg_map_loader_cfg)\u001b[0m\n\u001b[1;32m     77\u001b[0m \u001b[39mdef\u001b[39;00m \u001b[39m__init__\u001b[39m(\u001b[39mself\u001b[39m,\n\u001b[1;32m     78\u001b[0m              pipeline,\n\u001b[1;32m     79\u001b[0m              img_dir,\n\u001b[0;32m   (...)\u001b[0m\n\u001b[1;32m     89\u001b[0m              palette\u001b[39m=\u001b[39m\u001b[39mNone\u001b[39;00m,\n\u001b[1;32m     90\u001b[0m              gt_seg_map_loader_cfg\u001b[39m=\u001b[39m\u001b[39mNone\u001b[39;00m):\n\u001b[0;32m---> 91\u001b[0m     \u001b[39mself\u001b[39m\u001b[39m.\u001b[39mpipeline \u001b[39m=\u001b[39m Compose(pipeline)\n\u001b[1;32m     92\u001b[0m     \u001b[39mself\u001b[39m\u001b[39m.\u001b[39mimg_dir \u001b[39m=\u001b[39m img_dir\n\u001b[1;32m     93\u001b[0m     \u001b[39mself\u001b[39m\u001b[39m.\u001b[39mimg_suffix \u001b[39m=\u001b[39m img_suffix\n",
      "File \u001b[0;32m~/.conda/envs/vit/lib/python3.9/site-packages/mmseg/datasets/pipelines/compose.py:23\u001b[0m, in \u001b[0;36mCompose.__init__\u001b[0;34m(self, transforms)\u001b[0m\n\u001b[1;32m     21\u001b[0m \u001b[39mfor\u001b[39;00m transform \u001b[39min\u001b[39;00m transforms:\n\u001b[1;32m     22\u001b[0m     \u001b[39mif\u001b[39;00m \u001b[39misinstance\u001b[39m(transform, \u001b[39mdict\u001b[39m):\n\u001b[0;32m---> 23\u001b[0m         transform \u001b[39m=\u001b[39m build_from_cfg(transform, PIPELINES)\n\u001b[1;32m     24\u001b[0m         \u001b[39mself\u001b[39m\u001b[39m.\u001b[39mtransforms\u001b[39m.\u001b[39mappend(transform)\n\u001b[1;32m     25\u001b[0m     \u001b[39melif\u001b[39;00m \u001b[39mcallable\u001b[39m(transform):\n",
      "File \u001b[0;32m~/.conda/envs/vit/lib/python3.9/site-packages/mmcv/utils/registry.py:44\u001b[0m, in \u001b[0;36mbuild_from_cfg\u001b[0;34m(cfg, registry, default_args)\u001b[0m\n\u001b[1;32m     42\u001b[0m     obj_cls \u001b[39m=\u001b[39m registry\u001b[39m.\u001b[39mget(obj_type)\n\u001b[1;32m     43\u001b[0m     \u001b[39mif\u001b[39;00m obj_cls \u001b[39mis\u001b[39;00m \u001b[39mNone\u001b[39;00m:\n\u001b[0;32m---> 44\u001b[0m         \u001b[39mraise\u001b[39;00m \u001b[39mKeyError\u001b[39;00m(\n\u001b[1;32m     45\u001b[0m             \u001b[39mf\u001b[39m\u001b[39m'\u001b[39m\u001b[39m{\u001b[39;00mobj_type\u001b[39m}\u001b[39;00m\u001b[39m is not in the \u001b[39m\u001b[39m{\u001b[39;00mregistry\u001b[39m.\u001b[39mname\u001b[39m}\u001b[39;00m\u001b[39m registry\u001b[39m\u001b[39m'\u001b[39m)\n\u001b[1;32m     46\u001b[0m \u001b[39melif\u001b[39;00m inspect\u001b[39m.\u001b[39misclass(obj_type):\n\u001b[1;32m     47\u001b[0m     obj_cls \u001b[39m=\u001b[39m obj_type\n",
      "\u001b[0;31mKeyError\u001b[0m: 'ToMask is not in the pipeline registry'"
     ]
    }
   ],
   "source": [
    "from mmseg.datasets import CityscapesDataset\n",
    "\n",
    "crop_size = (512, 1024)\n",
    "\n",
    "img_norm_cfg = dict(\n",
    "    mean=[123.675, 116.28, 103.53], std=[58.395, 57.12, 57.375], to_rgb=True)\n",
    "\n",
    "train_pipeline = [\n",
    "    dict(type='LoadImageFromFile'),\n",
    "    dict(type='LoadAnnotations'),\n",
    "    # dict(type='Resize', img_scale=(2048, 1024), ratio_range=(0.5, 2.0)),\n",
    "    # dict(type='RandomCrop', crop_size=crop_size, cat_max_ratio=0.75),\n",
    "    # dict(type='RandomFlip', prob=0.5),\n",
    "    # dict(type='PhotoMetricDistortion'),\n",
    "    # dict(type='Normalize', **img_norm_cfg),\n",
    "    # dict(type='ToMask')\n",
    "    # dict(type='Pad', size=crop_size, pad_val=0, seg_pad_val=255),\n",
    "    # dict(type='DefaultFormatBundle'),\n",
    "    # dict(type='Collect', keys=['img', 'gt_semantic_seg']),\n",
    "]\n",
    "\n",
    "\n",
    "dataset = CityscapesDataset(\n",
    "    data_root = 'data/cityscapes/',\n",
    "    img_dir='leftImg8bit/val',\n",
    "    ann_dir='gtFine/val',\n",
    "    pipeline=train_pipeline,\n",
    "    classes=['road'],\n",
    "    palette=[[128, 64, 128]],\n",
    ")\n",
    "\n",
    "dataset[0]\n",
    "mmcv.imshow(dataset[3]['img'])\n",
    "# mmcv.imshow(dataset[3]['gt_semantic_seg'])\n",
    "# dataset.CLASSES[13]\n",
    "\n",
    "#  dataset[0]['gt_semantic_seg']\n"
   ]
  }
 ],
 "metadata": {
  "kernelspec": {
   "display_name": "vit",
   "language": "python",
   "name": "python3"
  },
  "language_info": {
   "codemirror_mode": {
    "name": "ipython",
    "version": 3
   },
   "file_extension": ".py",
   "mimetype": "text/x-python",
   "name": "python",
   "nbconvert_exporter": "python",
   "pygments_lexer": "ipython3",
   "version": "3.9.17"
  },
  "orig_nbformat": 4
 },
 "nbformat": 4,
 "nbformat_minor": 2
}
